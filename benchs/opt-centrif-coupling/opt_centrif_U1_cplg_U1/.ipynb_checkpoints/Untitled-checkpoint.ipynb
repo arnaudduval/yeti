{
 "cells": [
  {
   "cell_type": "code",
   "execution_count": 1,
   "id": "7e34d76d",
   "metadata": {},
   "outputs": [],
   "source": [
    "import numpy as np\n",
    "import sys\n",
    "import time\n",
    "\n",
    "# yeti modules\n",
    "from preprocessing.igaparametrization import IGAparametrization, IGAmanip as manip\n",
    "import postprocessing.postproc as pp\n",
    "import reconstructionSOL as rsol\n",
    "\n",
    "from preprocessing.igaparametrization import OPTmodelling"
   ]
  },
  {
   "cell_type": "code",
   "execution_count": 2,
   "id": "7bc3079a",
   "metadata": {},
   "outputs": [
    {
     "name": "stdout",
     "output_type": "stream",
     "text": [
      "\n",
      "Reading Abaqus inp file from centrif_U1_cpl_U1_1load.inp...\n",
      "\n",
      "Reading number of nodes by element...\n",
      "\n",
      "Reading parameters defining the user elements...\n",
      "\n",
      "Reading model name...\n",
      "No model name.\n",
      "\n",
      "Reading parameters...\n",
      "\n",
      "Reading distributions...\n",
      "0 distributions read.\n",
      "\n",
      "Reading materials...\n",
      "\tReading material Mat...\n",
      "\t\tType isotropic.\n",
      "\t\tElastic modulus = 210000.0\n",
      "\t\tPoisson = 0.3\n",
      "\tMaterial Mat successfully read.\n",
      "\tReading material MatVoid...\n",
      "\t\tType isotropic.\n",
      "\t\tElastic modulus = 0.0\n",
      "\t\tPoisson = 0.0\n",
      "\tMaterial MatVoid successfully read.\n",
      "2 materials read.\n",
      "\n",
      "Reading parts...\n",
      "\tReading part Piece...\n",
      "\t\t17 nodes read.\n",
      "\t\t1 elements read.\n",
      "\t\t2 elements read.\n",
      "\t\t3 elements read.\n",
      "\t\t5 groups read.\n",
      "\t\t3 properties read.\n",
      "\tPart Piece successfully read.\n",
      "1 parts read.\n",
      "\n",
      "Saving part objects...\n",
      "Parts successfully saved.\n",
      "\n",
      "Reading assembly...\n",
      "Creating instance I1 of part Piece...\n",
      "Successfully created.\n",
      "0 nodes read.\n",
      "1 instances created.\n",
      "\n",
      "Reading initial boundary conditions...\n",
      "\tInitial step created.\n",
      "Initial boundary conditions read.\n",
      "\n",
      "Reading steps...\n",
      "\tReading step ... No name\n",
      "\t\tReading boundary condition...\n",
      "\t\t - Boundary condition (bc with no name1) successfully added.\n",
      "\t\tReading Dload ...\n",
      "\t\t - Distributed load (no name) successfully added.\n",
      "\tStep No name successfully read with 1 bcs and 1 loads.\n",
      "2 steps read.\n",
      "\n",
      "Abaqus inp file centrif_U1_cpl_U1_1load.inp successfully read.\n"
     ]
    }
   ],
   "source": [
    "modeleIGA = IGAparametrization(filename='centrif_U1_cpl_U1_1load')"
   ]
  },
  {
   "cell_type": "code",
   "execution_count": 3,
   "id": "b0c09f3c",
   "metadata": {},
   "outputs": [
    {
     "name": "stdout",
     "output_type": "stream",
     "text": [
      " Refinement has been successfully done.\n"
     ]
    }
   ],
   "source": [
    "# Refinement to create optimisation model\n",
    "nb_deg = np.zeros((3, modeleIGA._nb_patch),dtype=np.intp)\n",
    "nb_ref = np.zeros((3, modeleIGA._nb_patch),dtype=np.intp)\n",
    "\n",
    "nb_ref[:, 1] = np.array([0, 2, 0])\n",
    "nb_deg[:, 1] = np.array([0, 1, 0])\n",
    "additional_knots = {\"patches\": np.array([0]),\n",
    "                    \"1\": np.array([]), \"2\": np.array([]), \"3\": np.array([])}\n",
    "\n",
    "\n",
    "# Initial refinement (none)\n",
    "modeleIGA.refine(nb_ref, nb_deg, additional_knots)"
   ]
  },
  {
   "cell_type": "code",
   "execution_count": 4,
   "id": "2e8e0af4",
   "metadata": {},
   "outputs": [
    {
     "data": {
      "text/plain": [
       "array([[-0.75,  0.75, -0.75,  0.75, -0.75,  0.75, -0.75,  0.75, -0.75,\n",
       "         0.75, -0.75,  0.75, -0.75,  0.75, -0.75,  0.75, -0.75,  0.75,\n",
       "        -0.75,  0.75, -0.75,  0.75, -0.75,  0.75, -0.75,  0.75, -0.75,\n",
       "         0.75, -0.75,  0.75, -0.75,  0.75,  0.  ],\n",
       "       [ 0.  ,  0.  ,  1.2 ,  1.2 ,  0.  ,  0.  ,  1.2 ,  1.2 ,  1.2 ,\n",
       "         1.2 ,  1.8 ,  1.8 ,  3.  ,  3.  ,  4.2 ,  4.2 ,  5.4 ,  5.4 ,\n",
       "         6.  ,  6.  ,  1.2 ,  1.2 ,  1.8 ,  1.8 ,  3.  ,  3.  ,  4.2 ,\n",
       "         4.2 ,  5.4 ,  5.4 ,  6.  ,  6.  ,  0.  ],\n",
       "       [-0.75, -0.75, -0.75, -0.75,  0.75,  0.75,  0.75,  0.75, -0.75,\n",
       "        -0.75, -0.75, -0.75, -0.75, -0.75, -0.75, -0.75, -0.75, -0.75,\n",
       "        -0.75, -0.75,  0.75,  0.75,  0.75,  0.75,  0.75,  0.75,  0.75,\n",
       "         0.75,  0.75,  0.75,  0.75,  0.75,  0.  ]])"
      ]
     },
     "execution_count": 4,
     "metadata": {},
     "output_type": "execute_result"
    }
   ],
   "source": [
    "modeleIGA._COORDS"
   ]
  },
  {
   "cell_type": "code",
   "execution_count": 5,
   "id": "99c07f31",
   "metadata": {},
   "outputs": [
    {
     "name": "stdout",
     "output_type": "stream",
     "text": [
      "5\n"
     ]
    }
   ],
   "source": [
    "icp = np.where(modeleIGA._COORDS[1, :] > 1.2)[0]\n",
    "nb_var = np.unique(modeleIGA._COORDS[1, icp]).size\n",
    "print(nb_var)"
   ]
  },
  {
   "cell_type": "code",
   "execution_count": 6,
   "id": "2198ddee",
   "metadata": {},
   "outputs": [],
   "source": [
    "# Define shape change from design variables\n",
    "# min and max dimensions, assuming that design variables are in [0,1]\n",
    "mindim = 0.1\n",
    "maxdim = 3.5\n",
    "\n",
    "def shapemodif(coords0, igapara, var):\n",
    "    igapara._COORDS[:,:] = coords0[:,:]\n",
    "    # shape change is made on points with y coord higher than 3\n",
    "    icp = np.where(modeleIGA._COORDS[1, :] > 1.2)[0]\n",
    "    i = 0\n",
    "    for y in np.unique(modeleIGA._COORDS[1, icp]):\n",
    "        # WARNING exact real value comparison is unsafe\n",
    "        jcp = np.where(modeleIGA._COORDS[1, :] == y)[0]\n",
    "    \n",
    "        #igapara._COORDS[0, jcp[0]] = - (mindim + var[i]*(maxdim-mindim))/2.\n",
    "        igapara._COORDS[2, jcp[0]] = - (mindim + var[i]*(maxdim-mindim))/2.\n",
    "        \n",
    "        #igapara._COORDS[0, jcp[1]] =   (mindim + var[i]*(maxdim-mindim))/2.\n",
    "        igapara._COORDS[2, jcp[1]] = - (mindim + var[i]*(maxdim-mindim))/2.\n",
    "        \n",
    "        #igapara._COORDS[0, jcp[2]] =   (mindim + var[i]*(maxdim-mindim))/2.\n",
    "        igapara._COORDS[2, jcp[2]] =   (mindim + var[i]*(maxdim-mindim))/2.\n",
    "        \n",
    "        #igapara._COORDS[0, jcp[3]] = - (mindim + var[i]*(maxdim-mindim))/2.\n",
    "        igapara._COORDS[2, jcp[3]] =   (mindim + var[i]*(maxdim-mindim))/2.\n",
    "        \n",
    "        i += 1\n",
    "    return None"
   ]
  },
  {
   "cell_type": "code",
   "execution_count": 7,
   "id": "0ba5e47b",
   "metadata": {},
   "outputs": [],
   "source": [
    "# Refinement from optim model to analysis model\n",
    "nb_deg[:,0] = np.array([1, 1, 1])\n",
    "nb_ref[:,0] = np.array([2, 2, 2])\n",
    "\n",
    "nb_deg[:,1] = np.array([1, 0, 1])\n",
    "nb_ref[:,1] = np.array([2, 2, 2])\n",
    "\n",
    "nb_ref[:, 2] = np.array([2, 2, 0])\n",
    "nb_deg[:, 2] = np.array([1, 1, 0])"
   ]
  },
  {
   "cell_type": "code",
   "execution_count": 8,
   "id": "e88b59f9",
   "metadata": {},
   "outputs": [
    {
     "name": "stdout",
     "output_type": "stream",
     "text": [
      " Refinement has been successfully done.\n"
     ]
    }
   ],
   "source": [
    "# Define optim problem \n",
    "optPB = OPTmodelling(modeleIGA, nb_var, shapemodif,\n",
    "                     nb_degreeElevationByDirection = nb_deg, \n",
    "                     nb_refinementByDirection      = nb_ref)"
   ]
  },
  {
   "cell_type": "code",
   "execution_count": 9,
   "id": "72149756",
   "metadata": {},
   "outputs": [
    {
     "name": "stdout",
     "output_type": "stream",
     "text": [
      "Compute Volume\n",
      "Compute compliance\n",
      " Linear elasticity analysis...\n",
      "--------------------\n",
      "Patch  3 of type U5\n",
      "  > coupling of face no.3 of patch  2\n",
      "  > on face no.4 of patch  1\n",
      "c0 :  1.1524258759948981e-05\n",
      "v0 :  3.599999999999987\n"
     ]
    }
   ],
   "source": [
    "# OPTIMISATION\n",
    "from scipy.optimize import minimize\n",
    "\n",
    "# Initial values of design variables\n",
    "x0 = ((1.5-mindim)/(maxdim-mindim))*np.ones(nb_var)\n",
    "# Compute initial values\n",
    "v0 = optPB.compute_volume(x0)\n",
    "c0 = optPB.compute_compliance_discrete(x0)\n",
    "\n",
    "print('c0 : ', c0)\n",
    "print('v0 : ', v0)"
   ]
  },
  {
   "cell_type": "code",
   "execution_count": 10,
   "id": "5be7127a",
   "metadata": {},
   "outputs": [],
   "source": [
    "vol_var = 0.2\n",
    "\n",
    "# Define functions and gradients\n",
    "def volIGA(xk):\n",
    "    global v0\n",
    "    return (optPB.compute_volume(xk)-v0)/v0\n",
    "def gradVolIGA(xk):\n",
    "    global v0\n",
    "    print(\"INFO gradVolIGA :\")\n",
    "    print(\"x : \", xk)\n",
    "    print(\"grad : \", optPB.compute_gradVolume_AN(xk, listpatch=np.array([1,1,0])))\n",
    "    return optPB.compute_gradVolume_AN(xk, listpatch=np.array([1,1,0]))/v0\n",
    "\n",
    "def const_var_vol(x_k, *args):\n",
    "    global v0\n",
    "    v_k = optPB.compute_volume(x_k)\n",
    "    return (v_k - (1 - vol_var) * v0) * ((1 + vol_var) * v0 - v_k)/(v0**2.)\n",
    "\n",
    "def grad_const_var_vol(x_k, *args):\n",
    "    global v0\n",
    "    v_k = optPB.compute_volume(x_k)\n",
    "    grad_v = optPB.compute_gradVolume_AN(x_k)\n",
    "    return  2 * grad_v * (v0 - v_k)/(v0**2.)\n",
    "    \n",
    "def compIGA(xk):\n",
    "    global c0\n",
    "    return optPB.compute_compliance_discrete(xk)/c0\n",
    "\n",
    "def gradCompIGA(xk):\n",
    "    global c0\n",
    "    print(\"INFO gradCompliance :\")\n",
    "    print(\"x : \", xk)\n",
    "    print(\"grad : \", optPB.compute_gradCompliance_AN(xk))\n",
    "    return optPB.compute_gradCompliance_AN(xk)/c0"
   ]
  },
  {
   "cell_type": "code",
   "execution_count": 11,
   "id": "d6c8d88b",
   "metadata": {},
   "outputs": [],
   "source": [
    "iopt = 0"
   ]
  },
  {
   "cell_type": "code",
   "execution_count": 12,
   "id": "e66b76b2",
   "metadata": {},
   "outputs": [],
   "source": [
    "# Define callback function\n",
    "def saveXk(xk):\n",
    "    global iopt\n",
    "    print(('\\nIteration%i'%iopt))\n",
    "    print(xk)\n",
    "    print('C : ', optPB.compute_compliance_discrete(xk))\n",
    "    print('V : ', optPB.compute_volume(xk))\n",
    "    SOL,u = rsol.reconstruction(\n",
    "            **optPB._fineParametrization.get_inputs4solution(optPB._save_sol_fine))\n",
    "    pp.generatevtu(*optPB._fineParametrization.get_inputs4postprocVTU(\n",
    "            'OPT3-fine%0.2d'%iopt,  SOL.transpose(), nb_ref=3*np.array([1,1,1]),\n",
    "            Flag=np.array([True, False, False])))\n",
    "    \n",
    "    iopt += 1\n",
    "    \n",
    "    return None"
   ]
  },
  {
   "cell_type": "code",
   "execution_count": 13,
   "id": "0f6feac8",
   "metadata": {},
   "outputs": [
    {
     "name": "stdout",
     "output_type": "stream",
     "text": [
      "Compute compliance\n",
      "C :  1.1524258759948981e-05\n",
      "Compute Volume\n",
      "V :  3.599999999999987\n",
      "Compute Volume\n",
      "Compute compliance\n",
      "INFO gradCompliance :\n",
      "x :  [0.41176471 0.41176471 0.41176471 0.41176471 0.41176471]\n",
      "Compute AN gradient of the compliance\n",
      "grad :  [ 1.57294517e-05  6.76798537e-07 -3.76784054e-06 -2.72552893e-06\n",
      " -1.41838288e-06]\n",
      "Compute AN gradient of the compliance\n",
      "Compute Volume\n",
      "INFO gradVolIGA :\n",
      "x :  [0.41176471 0.41176471 0.41176471 0.41176471 0.41176471]\n",
      "Compute AN gradient of the volume\n",
      "grad :  [ 7.14000000e-01  1.02000000e-01 -1.36002321e-15 -1.55431223e-15\n",
      " -3.00454106e-16]\n",
      "Compute AN gradient of the volume\n",
      "Compute compliance\n",
      " Linear elasticity analysis...\n",
      "--------------------\n",
      "Patch  3 of type U5\n",
      "  > coupling of face no.3 of patch  2\n",
      "  > on face no.4 of patch  1\n",
      "Compute Volume\n",
      "\n",
      "Iteration0\n",
      "[0.39268866 0.545297   0.73871333 0.64826833 0.53484272]\n",
      "Compute compliance\n",
      "C :  4.316597317117446e-05\n",
      "Compute Volume\n",
      "V :  3.6000000000000485\n",
      " Post processing ...\n",
      "  Map data on FEM mesh ...\n",
      "  Writing .vtu file ...\n",
      "  --> File OPT3-fine00.vtu has been created.\n",
      "Compute compliance\n",
      " Linear elasticity analysis...\n",
      "--------------------\n",
      "Patch  3 of type U5\n",
      "  > coupling of face no.3 of patch  2\n",
      "  > on face no.4 of patch  1\n",
      "Compute Volume\n",
      "Compute compliance\n",
      " Linear elasticity analysis...\n",
      "--------------------\n",
      "Patch  3 of type U5\n",
      "  > coupling of face no.3 of patch  2\n",
      "  > on face no.4 of patch  1\n",
      "Compute Volume\n",
      "Compute compliance\n",
      " Linear elasticity analysis...\n",
      "--------------------\n",
      "Patch  3 of type U5\n",
      "  > coupling of face no.3 of patch  2\n",
      "  > on face no.4 of patch  1\n",
      "Compute Volume\n",
      "Compute compliance\n",
      " Linear elasticity analysis...\n",
      "--------------------\n",
      "Patch  3 of type U5\n",
      "  > coupling of face no.3 of patch  2\n",
      "  > on face no.4 of patch  1\n",
      "Compute Volume\n",
      "Compute compliance\n",
      " Linear elasticity analysis...\n",
      "--------------------\n",
      "Patch  3 of type U5\n",
      "  > coupling of face no.3 of patch  2\n",
      "  > on face no.4 of patch  1\n",
      "Compute Volume\n",
      "Compute compliance\n",
      " Linear elasticity analysis...\n",
      "--------------------\n",
      "Patch  3 of type U5\n",
      "  > coupling of face no.3 of patch  2\n",
      "  > on face no.4 of patch  1\n",
      "Compute Volume\n",
      "Compute compliance\n",
      " Linear elasticity analysis...\n",
      "--------------------\n",
      "Patch  3 of type U5\n",
      "  > coupling of face no.3 of patch  2\n",
      "  > on face no.4 of patch  1\n",
      "Compute Volume\n",
      "Compute compliance\n",
      " Linear elasticity analysis...\n",
      "--------------------\n",
      "Patch  3 of type U5\n",
      "  > coupling of face no.3 of patch  2\n",
      "  > on face no.4 of patch  1\n",
      "Compute Volume\n",
      "Compute compliance\n",
      " Linear elasticity analysis...\n",
      "--------------------\n",
      "Patch  3 of type U5\n",
      "  > coupling of face no.3 of patch  2\n",
      "  > on face no.4 of patch  1\n",
      "Compute Volume\n",
      "Compute compliance\n",
      " Linear elasticity analysis...\n",
      "--------------------\n",
      "Patch  3 of type U5\n",
      "  > coupling of face no.3 of patch  2\n",
      "  > on face no.4 of patch  1\n",
      "Compute Volume\n",
      "     fun: 1.0000000010917918\n",
      "     jac: array([ 1.36489922,  0.05872816, -0.32694862, -0.23650362, -0.12307801])\n",
      " message: 'Optimization terminated successfully'\n",
      "    nfev: 12\n",
      "     nit: 1\n",
      "    njev: 1\n",
      "  status: 0\n",
      " success: True\n",
      "       x: array([0.41176471, 0.41176471, 0.41176471, 0.41176471, 0.41176471])\n",
      "Compute compliance\n",
      "C :  1.1524258772531071e-05\n",
      "Compute Volume\n",
      "V :  3.6000000000000005\n"
     ]
    }
   ],
   "source": [
    "# Bounds for design variables\n",
    "bds = ((0., 1.),)*nb_var\n",
    "constraint = ({'type': 'eq', 'fun':volIGA, 'jac':gradVolIGA})\n",
    "#constraint = ({'type': 'eq', 'fun':volIGA})\n",
    "#constraint = [{'type': 'ineq', 'fun': const_var_vol, 'jac': grad_const_var_vol}]\n",
    "x0 = ((1.5-mindim)/(maxdim-mindim))*np.ones(nb_var)\n",
    "print('C : ', optPB.compute_compliance_discrete(x0))\n",
    "print('V : ', optPB.compute_volume(x0))\n",
    "\n",
    "res = minimize(compIGA, x0, method='SLSQP',\n",
    "               jac=gradCompIGA, bounds=bds,\n",
    "               constraints=constraint, callback=saveXk)\n",
    "\n",
    "#res = minimize(compIGA, x0, method='SLSQP',\n",
    "#               jac=gradCompIGA, bounds=bds,\n",
    "#               constraints=constraint, callback=saveXk)\n",
    "\n",
    "print(res)\n",
    "print('C : ', optPB.compute_compliance_discrete(res['x']))\n",
    "print('V : ', optPB.compute_volume(res['x']))"
   ]
  },
  {
   "cell_type": "code",
   "execution_count": null,
   "id": "826af479",
   "metadata": {},
   "outputs": [],
   "source": []
  }
 ],
 "metadata": {
  "kernelspec": {
   "display_name": "Python 3 (ipykernel)",
   "language": "python",
   "name": "python3"
  },
  "language_info": {
   "codemirror_mode": {
    "name": "ipython",
    "version": 3
   },
   "file_extension": ".py",
   "mimetype": "text/x-python",
   "name": "python",
   "nbconvert_exporter": "python",
   "pygments_lexer": "ipython3",
   "version": "3.8.10"
  }
 },
 "nbformat": 4,
 "nbformat_minor": 5
}
